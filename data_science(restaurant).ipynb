{
  "nbformat": 4,
  "nbformat_minor": 0,
  "metadata": {
    "colab": {
      "name": "data science(restaurant)",
      "provenance": [],
      "collapsed_sections": [],
      "include_colab_link": true
    },
    "kernelspec": {
      "name": "python3",
      "display_name": "Python 3"
    }
  },
  "cells": [
    {
      "cell_type": "markdown",
      "metadata": {
        "id": "view-in-github",
        "colab_type": "text"
      },
      "source": [
        "<a href=\"https://colab.research.google.com/github/Aijeyomah/resturant-price-detector/blob/main/data_science(restaurant).ipynb\" target=\"_parent\"><img src=\"https://colab.research.google.com/assets/colab-badge.svg\" alt=\"Open In Colab\"/></a>"
      ]
    },
    {
      "cell_type": "markdown",
      "metadata": {
        "id": "-5nGhQaSc1sy"
      },
      "source": [
        "WHAT: In this block of code, we are importing various models which we want to use for data analysis"
      ]
    },
    {
      "cell_type": "markdown",
      "metadata": {
        "id": "rKEmpEc9eEcn"
      },
      "source": [
        " WHY: We are importing the matplotlib to display our output in our note book enviroment. We are importing these other python modules to use in to our environment to be able to access it in our code."
      ]
    },
    {
      "cell_type": "code",
      "metadata": {
        "id": "8wU24U0oUp2g"
      },
      "source": [
        "%matplotlib inline\n",
        "import matplotlib as mpl\n",
        "import seaborn as sns\n",
        "import matplotlib.pyplot as plt\n",
        "import statsmodels.api as sm\n",
        "import statsmodels.formula.api as smf\n",
        "import statsmodels.graphics.api as smg\n",
        "import pandas as pd\n",
        "import numpy as np\n",
        "import patsy\n",
        "from sklearn.linear_model import LinearRegression\n",
        "from statsmodels.graphics.correlation import plot_corr\n",
        "from sklearn.model_selection import train_test_split\n",
        "plt.style.use('seaborn')"
      ],
      "execution_count": null,
      "outputs": []
    },
    {
      "cell_type": "markdown",
      "metadata": {
        "id": "BdwGcrWDfMJp"
      },
      "source": [
        "WHAT: We are loading the nyc_url.CSV file and assigning it to a variable "
      ]
    },
    {
      "cell_type": "markdown",
      "metadata": {
        "id": "CjH-Wx1sfdmZ"
      },
      "source": [
        "WHY: We are reading and converting the nyc_url.CSV file into a panda dataframe to enable us access and manipulate the datasets inside"
      ]
    },
    {
      "cell_type": "code",
      "metadata": {
        "id": "-lDkri6XWB8I",
        "colab": {
          "base_uri": "https://localhost:8080/",
          "height": 204
        },
        "outputId": "a69fb1f6-5bb4-46c8-85fe-ac63ea1aae67"
      },
      "source": [
        "nyc_url = \"https://assets.datacamp.com/production/repositories/845/datasets/639a7a3f9020edb51bcbc4bfdb7b71cbd8b9a70e/nyc.csv\"\n",
        "nyc = pd.read_csv(nyc_url)\n",
        "nyc.head()"
      ],
      "execution_count": null,
      "outputs": [
        {
          "output_type": "execute_result",
          "data": {
            "text/html": [
              "<div>\n",
              "<style scoped>\n",
              "    .dataframe tbody tr th:only-of-type {\n",
              "        vertical-align: middle;\n",
              "    }\n",
              "\n",
              "    .dataframe tbody tr th {\n",
              "        vertical-align: top;\n",
              "    }\n",
              "\n",
              "    .dataframe thead th {\n",
              "        text-align: right;\n",
              "    }\n",
              "</style>\n",
              "<table border=\"1\" class=\"dataframe\">\n",
              "  <thead>\n",
              "    <tr style=\"text-align: right;\">\n",
              "      <th></th>\n",
              "      <th>Case</th>\n",
              "      <th>Restaurant</th>\n",
              "      <th>Price</th>\n",
              "      <th>Food</th>\n",
              "      <th>Decor</th>\n",
              "      <th>Service</th>\n",
              "      <th>East</th>\n",
              "    </tr>\n",
              "  </thead>\n",
              "  <tbody>\n",
              "    <tr>\n",
              "      <th>0</th>\n",
              "      <td>1</td>\n",
              "      <td>Daniella Ristorante</td>\n",
              "      <td>43</td>\n",
              "      <td>22</td>\n",
              "      <td>18</td>\n",
              "      <td>20</td>\n",
              "      <td>0</td>\n",
              "    </tr>\n",
              "    <tr>\n",
              "      <th>1</th>\n",
              "      <td>2</td>\n",
              "      <td>Tello's Ristorante</td>\n",
              "      <td>32</td>\n",
              "      <td>20</td>\n",
              "      <td>19</td>\n",
              "      <td>19</td>\n",
              "      <td>0</td>\n",
              "    </tr>\n",
              "    <tr>\n",
              "      <th>2</th>\n",
              "      <td>3</td>\n",
              "      <td>Biricchino</td>\n",
              "      <td>34</td>\n",
              "      <td>21</td>\n",
              "      <td>13</td>\n",
              "      <td>18</td>\n",
              "      <td>0</td>\n",
              "    </tr>\n",
              "    <tr>\n",
              "      <th>3</th>\n",
              "      <td>4</td>\n",
              "      <td>Bottino</td>\n",
              "      <td>41</td>\n",
              "      <td>20</td>\n",
              "      <td>20</td>\n",
              "      <td>17</td>\n",
              "      <td>0</td>\n",
              "    </tr>\n",
              "    <tr>\n",
              "      <th>4</th>\n",
              "      <td>5</td>\n",
              "      <td>Da Umberto</td>\n",
              "      <td>54</td>\n",
              "      <td>24</td>\n",
              "      <td>19</td>\n",
              "      <td>21</td>\n",
              "      <td>0</td>\n",
              "    </tr>\n",
              "  </tbody>\n",
              "</table>\n",
              "</div>"
            ],
            "text/plain": [
              "   Case           Restaurant  Price  Food  Decor  Service  East\n",
              "0     1  Daniella Ristorante     43    22     18       20     0\n",
              "1     2   Tello's Ristorante     32    20     19       19     0\n",
              "2     3           Biricchino     34    21     13       18     0\n",
              "3     4              Bottino     41    20     20       17     0\n",
              "4     5           Da Umberto     54    24     19       21     0"
            ]
          },
          "metadata": {
            "tags": []
          },
          "execution_count": 61
        }
      ]
    },
    {
      "cell_type": "markdown",
      "metadata": {
        "id": "bqulYKiBgOtH"
      },
      "source": [
        "WHAT: In this block of code, we are dropping all the null values in the dataset"
      ]
    },
    {
      "cell_type": "markdown",
      "metadata": {
        "id": "RQbBDLtugd7B"
      },
      "source": [
        "WHY: We are dropping the null values and saving it back into that variable to enable us have a cleaner dataset."
      ]
    },
    {
      "cell_type": "code",
      "metadata": {
        "id": "zsc65CBEW0EE"
      },
      "source": [
        "nycData = nyc.dropna()"
      ],
      "execution_count": null,
      "outputs": []
    },
    {
      "cell_type": "markdown",
      "metadata": {
        "id": "DP2uSUBUhHiN"
      },
      "source": [
        "WHAT: Dropping duplicates in the dataset"
      ]
    },
    {
      "cell_type": "markdown",
      "metadata": {
        "id": "ttqBxTLYhNSN"
      },
      "source": [
        "WHY: We are using the drop duplicate function to drop all the duplicates in our nycData to enable us have cleaner codes"
      ]
    },
    {
      "cell_type": "code",
      "metadata": {
        "id": "i1xoSCPbW4Ju"
      },
      "source": [
        "nycData = nycData.drop_duplicates()"
      ],
      "execution_count": null,
      "outputs": []
    },
    {
      "cell_type": "markdown",
      "metadata": {
        "id": "iYeBSKWNjsjc"
      },
      "source": [
        "WHAT: We made use of the .info function so that we can understand the type of values that exist in our columns."
      ]
    },
    {
      "cell_type": "markdown",
      "metadata": {
        "id": "KlW5fe9BjTlK"
      },
      "source": [
        "WHY: This block of code uses the .info function to get all information about the Boston data"
      ]
    },
    {
      "cell_type": "code",
      "metadata": {
        "id": "YXQMmojDZgez",
        "colab": {
          "base_uri": "https://localhost:8080/",
          "height": 255
        },
        "outputId": "6b1ae630-4de9-4796-8391-c73eeb36d796"
      },
      "source": [
        "nycData.info()"
      ],
      "execution_count": null,
      "outputs": [
        {
          "output_type": "stream",
          "text": [
            "<class 'pandas.core.frame.DataFrame'>\n",
            "Int64Index: 168 entries, 0 to 167\n",
            "Data columns (total 7 columns):\n",
            " #   Column      Non-Null Count  Dtype \n",
            "---  ------      --------------  ----- \n",
            " 0   Case        168 non-null    int64 \n",
            " 1   Restaurant  168 non-null    object\n",
            " 2   Price       168 non-null    int64 \n",
            " 3   Food        168 non-null    int64 \n",
            " 4   Decor       168 non-null    int64 \n",
            " 5   Service     168 non-null    int64 \n",
            " 6   East        168 non-null    int64 \n",
            "dtypes: int64(6), object(1)\n",
            "memory usage: 10.5+ KB\n"
          ],
          "name": "stdout"
        }
      ]
    },
    {
      "cell_type": "markdown",
      "metadata": {
        "id": "TcEixd5QnQ1G"
      },
      "source": [
        "WHAT: we are using describe function on the nycData dataset.\n",
        "\n",
        "we are passing np.number into the include keyword argument.\n",
        "\n",
        ".T is used to transpose the result\n"
      ]
    },
    {
      "cell_type": "markdown",
      "metadata": {
        "id": "vm-wLNmLqfUa"
      },
      "source": [
        "WHY: we are using describe to get statistical information about the data.\n",
        "\n",
        "The include function is used to ensure analysis is also run on the series that have numpy number datatype.\n",
        "we transpose the result so we can have a better layout "
      ]
    },
    {
      "cell_type": "code",
      "metadata": {
        "id": "rzOm8D_yZ3mp",
        "colab": {
          "base_uri": "https://localhost:8080/",
          "height": 235
        },
        "outputId": "87a72145-07a2-4225-c265-8e771cfa47c5"
      },
      "source": [
        "nyc.describe(include=[np.number]).T"
      ],
      "execution_count": null,
      "outputs": [
        {
          "output_type": "execute_result",
          "data": {
            "text/html": [
              "<div>\n",
              "<style scoped>\n",
              "    .dataframe tbody tr th:only-of-type {\n",
              "        vertical-align: middle;\n",
              "    }\n",
              "\n",
              "    .dataframe tbody tr th {\n",
              "        vertical-align: top;\n",
              "    }\n",
              "\n",
              "    .dataframe thead th {\n",
              "        text-align: right;\n",
              "    }\n",
              "</style>\n",
              "<table border=\"1\" class=\"dataframe\">\n",
              "  <thead>\n",
              "    <tr style=\"text-align: right;\">\n",
              "      <th></th>\n",
              "      <th>count</th>\n",
              "      <th>mean</th>\n",
              "      <th>std</th>\n",
              "      <th>min</th>\n",
              "      <th>25%</th>\n",
              "      <th>50%</th>\n",
              "      <th>75%</th>\n",
              "      <th>max</th>\n",
              "    </tr>\n",
              "  </thead>\n",
              "  <tbody>\n",
              "    <tr>\n",
              "      <th>Case</th>\n",
              "      <td>168.0</td>\n",
              "      <td>84.500000</td>\n",
              "      <td>48.641546</td>\n",
              "      <td>1.0</td>\n",
              "      <td>42.75</td>\n",
              "      <td>84.5</td>\n",
              "      <td>126.25</td>\n",
              "      <td>168.0</td>\n",
              "    </tr>\n",
              "    <tr>\n",
              "      <th>Price</th>\n",
              "      <td>168.0</td>\n",
              "      <td>42.696429</td>\n",
              "      <td>9.292814</td>\n",
              "      <td>19.0</td>\n",
              "      <td>36.00</td>\n",
              "      <td>43.0</td>\n",
              "      <td>50.00</td>\n",
              "      <td>65.0</td>\n",
              "    </tr>\n",
              "    <tr>\n",
              "      <th>Food</th>\n",
              "      <td>168.0</td>\n",
              "      <td>20.595238</td>\n",
              "      <td>1.982674</td>\n",
              "      <td>16.0</td>\n",
              "      <td>19.00</td>\n",
              "      <td>20.5</td>\n",
              "      <td>22.00</td>\n",
              "      <td>25.0</td>\n",
              "    </tr>\n",
              "    <tr>\n",
              "      <th>Decor</th>\n",
              "      <td>168.0</td>\n",
              "      <td>17.690476</td>\n",
              "      <td>2.702743</td>\n",
              "      <td>6.0</td>\n",
              "      <td>16.00</td>\n",
              "      <td>18.0</td>\n",
              "      <td>19.00</td>\n",
              "      <td>25.0</td>\n",
              "    </tr>\n",
              "    <tr>\n",
              "      <th>Service</th>\n",
              "      <td>168.0</td>\n",
              "      <td>19.398810</td>\n",
              "      <td>2.113940</td>\n",
              "      <td>14.0</td>\n",
              "      <td>18.00</td>\n",
              "      <td>20.0</td>\n",
              "      <td>21.00</td>\n",
              "      <td>24.0</td>\n",
              "    </tr>\n",
              "    <tr>\n",
              "      <th>East</th>\n",
              "      <td>168.0</td>\n",
              "      <td>0.630952</td>\n",
              "      <td>0.483989</td>\n",
              "      <td>0.0</td>\n",
              "      <td>0.00</td>\n",
              "      <td>1.0</td>\n",
              "      <td>1.00</td>\n",
              "      <td>1.0</td>\n",
              "    </tr>\n",
              "  </tbody>\n",
              "</table>\n",
              "</div>"
            ],
            "text/plain": [
              "         count       mean        std   min    25%   50%     75%    max\n",
              "Case     168.0  84.500000  48.641546   1.0  42.75  84.5  126.25  168.0\n",
              "Price    168.0  42.696429   9.292814  19.0  36.00  43.0   50.00   65.0\n",
              "Food     168.0  20.595238   1.982674  16.0  19.00  20.5   22.00   25.0\n",
              "Decor    168.0  17.690476   2.702743   6.0  16.00  18.0   19.00   25.0\n",
              "Service  168.0  19.398810   2.113940  14.0  18.00  20.0   21.00   24.0\n",
              "East     168.0   0.630952   0.483989   0.0   0.00   1.0    1.00    1.0"
            ]
          },
          "metadata": {
            "tags": []
          },
          "execution_count": 36
        }
      ]
    },
    {
      "cell_type": "markdown",
      "metadata": {
        "id": "AUCM3Enmlb4s"
      },
      "source": [
        "WHAT: we assigned a random number to seed\n",
        "\n",
        "we use the drop function to drop the price column from our dataframe and save dataframe inside a variable x\n",
        "we save the price column into a variable y\n",
        "\n",
        "we assigned 0.3 to test_data_size. we used the train_test_split function to split the x and y variables. \n",
        "\n",
        "we set our test_size to test_data_size\n",
        "\n",
        "\n",
        "we set our random_state to seed, we use the concat function on the x_train and y_train to join both into a dataframe and save it into the train_data.\n",
        "\n",
        "\n",
        "the same was done for the x_test and y_test and the resulting dataframe was saved into the test_data"
      ]
    },
    {
      "cell_type": "markdown",
      "metadata": {
        "id": "tkp_XpYwmIm9"
      },
      "source": [
        "WHY: \n",
        " we used the drop function on our dataframe so that we can separate our dependent and independent variables and save them into different variables.seed is a random number assigned to random state in the train_test_split function. so that when the function is performed we will ge the same output with the same data. we are dividing our dataset into 2 so that One can for training and one for testing. test data is 30% of the overall dataset. "
      ]
    },
    {
      "cell_type": "code",
      "metadata": {
        "id": "C_i8Qe2eZ7eG"
      },
      "source": [
        "y = nycData[['Price']]\n",
        "X = nycData[['Food', 'Decor', 'Service', 'East']]\n",
        "X_train, X_test, y_train, y_test = train_test_split(X, y, test_size = 0.3,random_state = 123 )\n",
        "train_data = pd.concat([X_train,y_train], axis=1)\n",
        "test_data = pd.concat([X_test, y_test], axis = 1)"
      ],
      "execution_count": null,
      "outputs": []
    },
    {
      "cell_type": "markdown",
      "metadata": {
        "id": "dDXvbj_JmXWW"
      },
      "source": [
        "WHAT: we define a correlation matrix with a method of pearson and save it in a variable corrMatrix\n",
        "\n",
        "we list out all the columns in the train data and save it into the xnames and ynames variables\n",
        "\n",
        "we call the plot_corr function and pass in our correlation matrix, we assign out xnames variable to our xname keyword argument, we also assign our ynames variable to our yname argument"
      ]
    },
    {
      "cell_type": "markdown",
      "metadata": {
        "id": "1nTYy7tlm66K"
      },
      "source": [
        "WHY: we created a correlation matrix to provide a visual representation of the correlation between the variables in the dataset. Pearson correlation coefficient was the method used to obtain our coefficients. we are trying to determine which independent variables have a strong correlation with our dependent variable(price). "
      ]
    },
    {
      "cell_type": "code",
      "metadata": {
        "id": "EMQNq5RpaAs2",
        "colab": {
          "base_uri": "https://localhost:8080/",
          "height": 793
        },
        "outputId": "d502a7be-4bcc-48cf-8080-f9f5c7082b07"
      },
      "source": [
        "corrMatrix = train_data.corr(method = 'pearson')\n",
        "xnames=list(train_data.columns)\n",
        "ynames=list(train_data.columns)\n",
        "plot_corr(corrMatrix, xnames=xnames, ynames=ynames,\\\n",
        " title=None, normcolor=False, cmap='RdYlBu_r')"
      ],
      "execution_count": null,
      "outputs": [
        {
          "output_type": "execute_result",
          "data": {
            "image/png": "[encoded data removed]",
            "text/plain": [
              "<Figure size 576x396 with 2 Axes>"
            ]
          },
          "metadata": {
            "tags": []
          },
          "execution_count": 38
        },
        {
          "output_type": "display_data",
          "data": {
            "image/png": "[encoded data removed]",
            "text/plain": [
              "<Figure size 576x396 with 2 Axes>"
            ]
          },
          "metadata": {
            "tags": []
          }
        }
      ]
    },
    {
      "cell_type": "code",
      "metadata": {
        "id": "NkbspYiTs9Ze",
        "colab": {
          "base_uri": "https://localhost:8080/",
          "height": 119
        },
        "outputId": "7b60b494-0f86-4d5f-adf7-5d5d8ad44ad3"
      },
      "source": [
        "print(corrMatrix)"
      ],
      "execution_count": null,
      "outputs": [
        {
          "output_type": "stream",
          "text": [
            "             Food     Decor   Service      East     Price\n",
            "Food     1.000000  0.383665  0.775263  0.120509  0.597124\n",
            "Decor    0.383665  1.000000  0.591756  0.026960  0.663770\n",
            "Service  0.775263  0.591756  1.000000  0.178831  0.626589\n",
            "East     0.120509  0.026960  0.178831  1.000000  0.208335\n",
            "Price    0.597124  0.663770  0.626589  0.208335  1.000000\n"
          ],
          "name": "stdout"
        }
      ]
    },
    {
      "cell_type": "markdown",
      "metadata": {
        "id": "Re_3_y4a9hG0"
      },
      "source": [
        "#what\n",
        "The fit method (.fit()) of the model object was called to \n",
        "fit the linear regression model to the data"
      ]
    },
    {
      "cell_type": "code",
      "metadata": {
        "id": "ajt_lS6v-xbT"
      },
      "source": [
        "multiLinearModel = smf.ols(formula= 'Price ~ Food + Decor + Service + East', data = train_data)\n",
        "multiLinearModResult = multiLinearModel.fit()\n"
      ],
      "execution_count": null,
      "outputs": []
    },
    {
      "cell_type": "markdown",
      "metadata": {
        "id": "sQlUuoGq9Gof"
      },
      "source": [
        "#what\n",
        "We are printing out the summary of our model"
      ]
    },
    {
      "cell_type": "markdown",
      "metadata": {
        "id": "yVspmBJ8zQ7B"
      },
      "source": [
        "The R-squared is a measure of how well our model fits the dataset in pepercentage  Rsquared is also basically our coefficent of determination and it is equals to 0.6 and this means that our independent variable describes 60% of our dependent.\n",
        "Observing the coefficient, we can see that the function of our model is y=1.8306X1+1.871X2 -0.0002X3 + 2.8722X4 -28.7444\n",
        "where y is our price, X1 is food, X2 decor, X3 service, X4 east.\n",
        "This is the summary of the model we have developed."
      ]
    },
    {
      "cell_type": "code",
      "metadata": {
        "id": "TL2qeHT1W8RY",
        "colab": {
          "base_uri": "https://localhost:8080/",
          "height": 493
        },
        "outputId": "acc11cf7-50fd-48ba-c0a1-8ec3370f9c36"
      },
      "source": [
        "print(multiLinearModResult.summary())"
      ],
      "execution_count": null,
      "outputs": [
        {
          "output_type": "stream",
          "text": [
            "                            OLS Regression Results                            \n",
            "==============================================================================\n",
            "Dep. Variable:                  Price   R-squared:                       0.600\n",
            "Model:                            OLS   Adj. R-squared:                  0.586\n",
            "Method:                 Least Squares   F-statistic:                     41.97\n",
            "Date:                Fri, 17 Jul 2020   Prob (F-statistic):           1.84e-21\n",
            "Time:                        15:20:40   Log-Likelihood:                -372.50\n",
            "No. Observations:                 117   AIC:                             755.0\n",
            "Df Residuals:                     112   BIC:                             768.8\n",
            "Df Model:                           4                                         \n",
            "Covariance Type:            nonrobust                                         \n",
            "==============================================================================\n",
            "                 coef    std err          t      P>|t|      [0.025      0.975]\n",
            "------------------------------------------------------------------------------\n",
            "Intercept    -28.7444      6.094     -4.717      0.000     -40.819     -16.670\n",
            "Food           1.8306      0.458      3.993      0.000       0.922       2.739\n",
            "Decor          1.8171      0.267      6.806      0.000       1.288       2.346\n",
            "Service       -0.0002      0.484     -0.000      1.000      -0.960       0.960\n",
            "East           2.8722      1.183      2.429      0.017       0.529       5.216\n",
            "==============================================================================\n",
            "Omnibus:                        3.410   Durbin-Watson:                   1.842\n",
            "Prob(Omnibus):                  0.182   Jarque-Bera (JB):                2.918\n",
            "Skew:                           0.267   Prob(JB):                        0.232\n",
            "Kurtosis:                       3.559   Cond. No.                         368.\n",
            "==============================================================================\n",
            "\n",
            "Warnings:\n",
            "[1] Standard Errors assume that the covariance matrix of the errors is correctly specified.\n"
          ],
          "name": "stdout"
        }
      ]
    },
    {
      "cell_type": "markdown",
      "metadata": {
        "id": "steMl39w__GG"
      },
      "source": [
        "Model Evaluation"
      ]
    },
    {
      "cell_type": "markdown",
      "metadata": {
        "id": "uMr322KWAHfg"
      },
      "source": [
        "# why\n",
        "This helps us evaluate the performance of if model"
      ]
    },
    {
      "cell_type": "code",
      "metadata": {
        "id": "tmQjZFoW_4HG"
      },
      "source": [
        "y_pred = multiLinearModResult.predict(X_test)"
      ],
      "execution_count": null,
      "outputs": []
    },
    {
      "cell_type": "code",
      "metadata": {
        "id": "TAITzzFfAgFI",
        "colab": {
          "base_uri": "https://localhost:8080/",
          "height": 204
        },
        "outputId": "f5ba53dd-dc3b-4b2a-d9ee-71221a989a94"
      },
      "source": [
        "compare_test = pd.concat([y_test, y_pred], axis=1)\n",
        "compare_test.head()"
      ],
      "execution_count": null,
      "outputs": [
        {
          "output_type": "execute_result",
          "data": {
            "text/html": [
              "<div>\n",
              "<style scoped>\n",
              "    .dataframe tbody tr th:only-of-type {\n",
              "        vertical-align: middle;\n",
              "    }\n",
              "\n",
              "    .dataframe tbody tr th {\n",
              "        vertical-align: top;\n",
              "    }\n",
              "\n",
              "    .dataframe thead th {\n",
              "        text-align: right;\n",
              "    }\n",
              "</style>\n",
              "<table border=\"1\" class=\"dataframe\">\n",
              "  <thead>\n",
              "    <tr style=\"text-align: right;\">\n",
              "      <th></th>\n",
              "      <th>Price</th>\n",
              "      <th>0</th>\n",
              "    </tr>\n",
              "  </thead>\n",
              "  <tbody>\n",
              "    <tr>\n",
              "      <th>63</th>\n",
              "      <td>49</td>\n",
              "      <td>45.260684</td>\n",
              "    </tr>\n",
              "    <tr>\n",
              "      <th>86</th>\n",
              "      <td>50</td>\n",
              "      <td>48.935180</td>\n",
              "    </tr>\n",
              "    <tr>\n",
              "      <th>145</th>\n",
              "      <td>52</td>\n",
              "      <td>55.148341</td>\n",
              "    </tr>\n",
              "    <tr>\n",
              "      <th>53</th>\n",
              "      <td>36</td>\n",
              "      <td>30.683759</td>\n",
              "    </tr>\n",
              "    <tr>\n",
              "      <th>60</th>\n",
              "      <td>53</td>\n",
              "      <td>54.399782</td>\n",
              "    </tr>\n",
              "  </tbody>\n",
              "</table>\n",
              "</div>"
            ],
            "text/plain": [
              "     Price          0\n",
              "63      49  45.260684\n",
              "86      50  48.935180\n",
              "145     52  55.148341\n",
              "53      36  30.683759\n",
              "60      53  54.399782"
            ]
          },
          "metadata": {
            "tags": []
          },
          "execution_count": 43
        }
      ]
    },
    {
      "cell_type": "markdown",
      "metadata": {
        "id": "ke4PC87bA04Y"
      },
      "source": [
        "# what\n",
        "The Rsquared of our model is being improved. This involves us converting the categorical column in the dataset to a dummy variable"
      ]
    },
    {
      "cell_type": "markdown",
      "metadata": {
        "id": "ZvNpRuC-BUf2"
      },
      "source": [
        "#Why\n",
        "in training a model which uses a machine learning algorithm , a numerical representation of our data is required. The value against each variable will be 1 or 0 depending on whether the variable is present or not. "
      ]
    },
    {
      "cell_type": "code",
      "metadata": {
        "id": "sWMVUO0yB9SG",
        "colab": {
          "base_uri": "https://localhost:8080/",
          "height": 287
        },
        "outputId": "0060b078-df28-48ad-96d9-50c4c23d0c0c"
      },
      "source": [
        "nycDataCat = pd.get_dummies(nyc[['Restaurant']], drop_first=True, prefix='RES')\n",
        "nycDataCat.head()"
      ],
      "execution_count": null,
      "outputs": [
        {
          "output_type": "execute_result",
          "data": {
            "text/html": [
              "<div>\n",
              "<style scoped>\n",
              "    .dataframe tbody tr th:only-of-type {\n",
              "        vertical-align: middle;\n",
              "    }\n",
              "\n",
              "    .dataframe tbody tr th {\n",
              "        vertical-align: top;\n",
              "    }\n",
              "\n",
              "    .dataframe thead th {\n",
              "        text-align: right;\n",
              "    }\n",
              "</style>\n",
              "<table border=\"1\" class=\"dataframe\">\n",
              "  <thead>\n",
              "    <tr style=\"text-align: right;\">\n",
              "      <th></th>\n",
              "      <th>RES_Anche Vivolo</th>\n",
              "      <th>RES_Andiamo</th>\n",
              "      <th>RES_Arno</th>\n",
              "      <th>RES_Artusi</th>\n",
              "      <th>RES_Baci</th>\n",
              "      <th>RES_Baraonda</th>\n",
              "      <th>RES_Barbaresco</th>\n",
              "      <th>RES_Barbetta</th>\n",
              "      <th>RES_Bardolino</th>\n",
              "      <th>RES_Basta Pasta</th>\n",
              "      <th>RES_Becco</th>\n",
              "      <th>RES_Bella Luna</th>\n",
              "      <th>RES_Bellini</th>\n",
              "      <th>RES_Bello</th>\n",
              "      <th>RES_Belluno</th>\n",
              "      <th>RES_Bice</th>\n",
              "      <th>RES_Biricchino</th>\n",
              "      <th>RES_Bondí Ristorante´</th>\n",
              "      <th>RES_Bottino</th>\n",
              "      <th>RES_Bravo Gianni</th>\n",
              "      <th>RES_Bruno Ristorante</th>\n",
              "      <th>RES_Cafe Trevi</th>\n",
              "      <th>RES_Caffe Cielo</th>\n",
              "      <th>RES_Caffe Grazie</th>\n",
              "      <th>RES_Campagna</th>\n",
              "      <th>RES_Campagnola</th>\n",
              "      <th>RES_Canaletto</th>\n",
              "      <th>RES_Cara Mia</th>\n",
              "      <th>RES_Carino Ristorante</th>\n",
              "      <th>RES_Casa Di Meglio</th>\n",
              "      <th>RES_Casa Mia</th>\n",
              "      <th>RES_Castellano</th>\n",
              "      <th>RES_Cellini</th>\n",
              "      <th>RES_Chianti</th>\n",
              "      <th>RES_Ciao Europa</th>\n",
              "      <th>RES_Cinque Terre</th>\n",
              "      <th>RES_Circo Osteria del</th>\n",
              "      <th>RES_Coco Pazzo</th>\n",
              "      <th>RES_Coco Pazzo Café</th>\n",
              "      <th>RES_Coco Pazzo Teatro</th>\n",
              "      <th>...</th>\n",
              "      <th>RES_Rainbow Grill</th>\n",
              "      <th>RES_Rao's</th>\n",
              "      <th>RES_Remi</th>\n",
              "      <th>RES_Ribollita</th>\n",
              "      <th>RES_Rino Trattoria</th>\n",
              "      <th>RES_Rossini's</th>\n",
              "      <th>RES_Rughetta</th>\n",
              "      <th>RES_Sal Anthony's</th>\n",
              "      <th>RES_Sambuca, Trattoria</th>\n",
              "      <th>RES_San Domenico</th>\n",
              "      <th>RES_San Giusto</th>\n",
              "      <th>RES_San Pietro</th>\n",
              "      <th>RES_Scaletta</th>\n",
              "      <th>RES_Scalinatella</th>\n",
              "      <th>RES_Sette Mezzo</th>\n",
              "      <th>RES_Sette MoMA</th>\n",
              "      <th>RES_Sirabella's</th>\n",
              "      <th>RES_Sistina</th>\n",
              "      <th>RES_Spada</th>\n",
              "      <th>RES_Supreme Macaroni Co.</th>\n",
              "      <th>RES_Tello's Ristorante</th>\n",
              "      <th>RES_Teodora</th>\n",
              "      <th>RES_Tino's</th>\n",
              "      <th>RES_Tony's Di Napoli</th>\n",
              "      <th>RES_Torre di Pisa</th>\n",
              "      <th>RES_Trattoria Alba</th>\n",
              "      <th>RES_Trattoria Del Sogno</th>\n",
              "      <th>RES_Trattoria Dopo Teatro</th>\n",
              "      <th>RES_Trattoria Rustica</th>\n",
              "      <th>RES_Triangolo</th>\n",
              "      <th>RES_Trionfo</th>\n",
              "      <th>RES_Tuscan Square</th>\n",
              "      <th>RES_Vago Ristorante</th>\n",
              "      <th>RES_Veronica</th>\n",
              "      <th>RES_Via Oreto</th>\n",
              "      <th>RES_ViceVersa</th>\n",
              "      <th>RES_Vico</th>\n",
              "      <th>RES_Villa Berulia</th>\n",
              "      <th>RES_Vivolo</th>\n",
              "      <th>RES_Zucchero e Pomodori</th>\n",
              "    </tr>\n",
              "  </thead>\n",
              "  <tbody>\n",
              "    <tr>\n",
              "      <th>0</th>\n",
              "      <td>0</td>\n",
              "      <td>0</td>\n",
              "      <td>0</td>\n",
              "      <td>0</td>\n",
              "      <td>0</td>\n",
              "      <td>0</td>\n",
              "      <td>0</td>\n",
              "      <td>0</td>\n",
              "      <td>0</td>\n",
              "      <td>0</td>\n",
              "      <td>0</td>\n",
              "      <td>0</td>\n",
              "      <td>0</td>\n",
              "      <td>0</td>\n",
              "      <td>0</td>\n",
              "      <td>0</td>\n",
              "      <td>0</td>\n",
              "      <td>0</td>\n",
              "      <td>0</td>\n",
              "      <td>0</td>\n",
              "      <td>0</td>\n",
              "      <td>0</td>\n",
              "      <td>0</td>\n",
              "      <td>0</td>\n",
              "      <td>0</td>\n",
              "      <td>0</td>\n",
              "      <td>0</td>\n",
              "      <td>0</td>\n",
              "      <td>0</td>\n",
              "      <td>0</td>\n",
              "      <td>0</td>\n",
              "      <td>0</td>\n",
              "      <td>0</td>\n",
              "      <td>0</td>\n",
              "      <td>0</td>\n",
              "      <td>0</td>\n",
              "      <td>0</td>\n",
              "      <td>0</td>\n",
              "      <td>0</td>\n",
              "      <td>0</td>\n",
              "      <td>...</td>\n",
              "      <td>0</td>\n",
              "      <td>0</td>\n",
              "      <td>0</td>\n",
              "      <td>0</td>\n",
              "      <td>0</td>\n",
              "      <td>0</td>\n",
              "      <td>0</td>\n",
              "      <td>0</td>\n",
              "      <td>0</td>\n",
              "      <td>0</td>\n",
              "      <td>0</td>\n",
              "      <td>0</td>\n",
              "      <td>0</td>\n",
              "      <td>0</td>\n",
              "      <td>0</td>\n",
              "      <td>0</td>\n",
              "      <td>0</td>\n",
              "      <td>0</td>\n",
              "      <td>0</td>\n",
              "      <td>0</td>\n",
              "      <td>0</td>\n",
              "      <td>0</td>\n",
              "      <td>0</td>\n",
              "      <td>0</td>\n",
              "      <td>0</td>\n",
              "      <td>0</td>\n",
              "      <td>0</td>\n",
              "      <td>0</td>\n",
              "      <td>0</td>\n",
              "      <td>0</td>\n",
              "      <td>0</td>\n",
              "      <td>0</td>\n",
              "      <td>0</td>\n",
              "      <td>0</td>\n",
              "      <td>0</td>\n",
              "      <td>0</td>\n",
              "      <td>0</td>\n",
              "      <td>0</td>\n",
              "      <td>0</td>\n",
              "      <td>0</td>\n",
              "    </tr>\n",
              "    <tr>\n",
              "      <th>1</th>\n",
              "      <td>0</td>\n",
              "      <td>0</td>\n",
              "      <td>0</td>\n",
              "      <td>0</td>\n",
              "      <td>0</td>\n",
              "      <td>0</td>\n",
              "      <td>0</td>\n",
              "      <td>0</td>\n",
              "      <td>0</td>\n",
              "      <td>0</td>\n",
              "      <td>0</td>\n",
              "      <td>0</td>\n",
              "      <td>0</td>\n",
              "      <td>0</td>\n",
              "      <td>0</td>\n",
              "      <td>0</td>\n",
              "      <td>0</td>\n",
              "      <td>0</td>\n",
              "      <td>0</td>\n",
              "      <td>0</td>\n",
              "      <td>0</td>\n",
              "      <td>0</td>\n",
              "      <td>0</td>\n",
              "      <td>0</td>\n",
              "      <td>0</td>\n",
              "      <td>0</td>\n",
              "      <td>0</td>\n",
              "      <td>0</td>\n",
              "      <td>0</td>\n",
              "      <td>0</td>\n",
              "      <td>0</td>\n",
              "      <td>0</td>\n",
              "      <td>0</td>\n",
              "      <td>0</td>\n",
              "      <td>0</td>\n",
              "      <td>0</td>\n",
              "      <td>0</td>\n",
              "      <td>0</td>\n",
              "      <td>0</td>\n",
              "      <td>0</td>\n",
              "      <td>...</td>\n",
              "      <td>0</td>\n",
              "      <td>0</td>\n",
              "      <td>0</td>\n",
              "      <td>0</td>\n",
              "      <td>0</td>\n",
              "      <td>0</td>\n",
              "      <td>0</td>\n",
              "      <td>0</td>\n",
              "      <td>0</td>\n",
              "      <td>0</td>\n",
              "      <td>0</td>\n",
              "      <td>0</td>\n",
              "      <td>0</td>\n",
              "      <td>0</td>\n",
              "      <td>0</td>\n",
              "      <td>0</td>\n",
              "      <td>0</td>\n",
              "      <td>0</td>\n",
              "      <td>0</td>\n",
              "      <td>0</td>\n",
              "      <td>1</td>\n",
              "      <td>0</td>\n",
              "      <td>0</td>\n",
              "      <td>0</td>\n",
              "      <td>0</td>\n",
              "      <td>0</td>\n",
              "      <td>0</td>\n",
              "      <td>0</td>\n",
              "      <td>0</td>\n",
              "      <td>0</td>\n",
              "      <td>0</td>\n",
              "      <td>0</td>\n",
              "      <td>0</td>\n",
              "      <td>0</td>\n",
              "      <td>0</td>\n",
              "      <td>0</td>\n",
              "      <td>0</td>\n",
              "      <td>0</td>\n",
              "      <td>0</td>\n",
              "      <td>0</td>\n",
              "    </tr>\n",
              "    <tr>\n",
              "      <th>2</th>\n",
              "      <td>0</td>\n",
              "      <td>0</td>\n",
              "      <td>0</td>\n",
              "      <td>0</td>\n",
              "      <td>0</td>\n",
              "      <td>0</td>\n",
              "      <td>0</td>\n",
              "      <td>0</td>\n",
              "      <td>0</td>\n",
              "      <td>0</td>\n",
              "      <td>0</td>\n",
              "      <td>0</td>\n",
              "      <td>0</td>\n",
              "      <td>0</td>\n",
              "      <td>0</td>\n",
              "      <td>0</td>\n",
              "      <td>1</td>\n",
              "      <td>0</td>\n",
              "      <td>0</td>\n",
              "      <td>0</td>\n",
              "      <td>0</td>\n",
              "      <td>0</td>\n",
              "      <td>0</td>\n",
              "      <td>0</td>\n",
              "      <td>0</td>\n",
              "      <td>0</td>\n",
              "      <td>0</td>\n",
              "      <td>0</td>\n",
              "      <td>0</td>\n",
              "      <td>0</td>\n",
              "      <td>0</td>\n",
              "      <td>0</td>\n",
              "      <td>0</td>\n",
              "      <td>0</td>\n",
              "      <td>0</td>\n",
              "      <td>0</td>\n",
              "      <td>0</td>\n",
              "      <td>0</td>\n",
              "      <td>0</td>\n",
              "      <td>0</td>\n",
              "      <td>...</td>\n",
              "      <td>0</td>\n",
              "      <td>0</td>\n",
              "      <td>0</td>\n",
              "      <td>0</td>\n",
              "      <td>0</td>\n",
              "      <td>0</td>\n",
              "      <td>0</td>\n",
              "      <td>0</td>\n",
              "      <td>0</td>\n",
              "      <td>0</td>\n",
              "      <td>0</td>\n",
              "      <td>0</td>\n",
              "      <td>0</td>\n",
              "      <td>0</td>\n",
              "      <td>0</td>\n",
              "      <td>0</td>\n",
              "      <td>0</td>\n",
              "      <td>0</td>\n",
              "      <td>0</td>\n",
              "      <td>0</td>\n",
              "      <td>0</td>\n",
              "      <td>0</td>\n",
              "      <td>0</td>\n",
              "      <td>0</td>\n",
              "      <td>0</td>\n",
              "      <td>0</td>\n",
              "      <td>0</td>\n",
              "      <td>0</td>\n",
              "      <td>0</td>\n",
              "      <td>0</td>\n",
              "      <td>0</td>\n",
              "      <td>0</td>\n",
              "      <td>0</td>\n",
              "      <td>0</td>\n",
              "      <td>0</td>\n",
              "      <td>0</td>\n",
              "      <td>0</td>\n",
              "      <td>0</td>\n",
              "      <td>0</td>\n",
              "      <td>0</td>\n",
              "    </tr>\n",
              "    <tr>\n",
              "      <th>3</th>\n",
              "      <td>0</td>\n",
              "      <td>0</td>\n",
              "      <td>0</td>\n",
              "      <td>0</td>\n",
              "      <td>0</td>\n",
              "      <td>0</td>\n",
              "      <td>0</td>\n",
              "      <td>0</td>\n",
              "      <td>0</td>\n",
              "      <td>0</td>\n",
              "      <td>0</td>\n",
              "      <td>0</td>\n",
              "      <td>0</td>\n",
              "      <td>0</td>\n",
              "      <td>0</td>\n",
              "      <td>0</td>\n",
              "      <td>0</td>\n",
              "      <td>0</td>\n",
              "      <td>1</td>\n",
              "      <td>0</td>\n",
              "      <td>0</td>\n",
              "      <td>0</td>\n",
              "      <td>0</td>\n",
              "      <td>0</td>\n",
              "      <td>0</td>\n",
              "      <td>0</td>\n",
              "      <td>0</td>\n",
              "      <td>0</td>\n",
              "      <td>0</td>\n",
              "      <td>0</td>\n",
              "      <td>0</td>\n",
              "      <td>0</td>\n",
              "      <td>0</td>\n",
              "      <td>0</td>\n",
              "      <td>0</td>\n",
              "      <td>0</td>\n",
              "      <td>0</td>\n",
              "      <td>0</td>\n",
              "      <td>0</td>\n",
              "      <td>0</td>\n",
              "      <td>...</td>\n",
              "      <td>0</td>\n",
              "      <td>0</td>\n",
              "      <td>0</td>\n",
              "      <td>0</td>\n",
              "      <td>0</td>\n",
              "      <td>0</td>\n",
              "      <td>0</td>\n",
              "      <td>0</td>\n",
              "      <td>0</td>\n",
              "      <td>0</td>\n",
              "      <td>0</td>\n",
              "      <td>0</td>\n",
              "      <td>0</td>\n",
              "      <td>0</td>\n",
              "      <td>0</td>\n",
              "      <td>0</td>\n",
              "      <td>0</td>\n",
              "      <td>0</td>\n",
              "      <td>0</td>\n",
              "      <td>0</td>\n",
              "      <td>0</td>\n",
              "      <td>0</td>\n",
              "      <td>0</td>\n",
              "      <td>0</td>\n",
              "      <td>0</td>\n",
              "      <td>0</td>\n",
              "      <td>0</td>\n",
              "      <td>0</td>\n",
              "      <td>0</td>\n",
              "      <td>0</td>\n",
              "      <td>0</td>\n",
              "      <td>0</td>\n",
              "      <td>0</td>\n",
              "      <td>0</td>\n",
              "      <td>0</td>\n",
              "      <td>0</td>\n",
              "      <td>0</td>\n",
              "      <td>0</td>\n",
              "      <td>0</td>\n",
              "      <td>0</td>\n",
              "    </tr>\n",
              "    <tr>\n",
              "      <th>4</th>\n",
              "      <td>0</td>\n",
              "      <td>0</td>\n",
              "      <td>0</td>\n",
              "      <td>0</td>\n",
              "      <td>0</td>\n",
              "      <td>0</td>\n",
              "      <td>0</td>\n",
              "      <td>0</td>\n",
              "      <td>0</td>\n",
              "      <td>0</td>\n",
              "      <td>0</td>\n",
              "      <td>0</td>\n",
              "      <td>0</td>\n",
              "      <td>0</td>\n",
              "      <td>0</td>\n",
              "      <td>0</td>\n",
              "      <td>0</td>\n",
              "      <td>0</td>\n",
              "      <td>0</td>\n",
              "      <td>0</td>\n",
              "      <td>0</td>\n",
              "      <td>0</td>\n",
              "      <td>0</td>\n",
              "      <td>0</td>\n",
              "      <td>0</td>\n",
              "      <td>0</td>\n",
              "      <td>0</td>\n",
              "      <td>0</td>\n",
              "      <td>0</td>\n",
              "      <td>0</td>\n",
              "      <td>0</td>\n",
              "      <td>0</td>\n",
              "      <td>0</td>\n",
              "      <td>0</td>\n",
              "      <td>0</td>\n",
              "      <td>0</td>\n",
              "      <td>0</td>\n",
              "      <td>0</td>\n",
              "      <td>0</td>\n",
              "      <td>0</td>\n",
              "      <td>...</td>\n",
              "      <td>0</td>\n",
              "      <td>0</td>\n",
              "      <td>0</td>\n",
              "      <td>0</td>\n",
              "      <td>0</td>\n",
              "      <td>0</td>\n",
              "      <td>0</td>\n",
              "      <td>0</td>\n",
              "      <td>0</td>\n",
              "      <td>0</td>\n",
              "      <td>0</td>\n",
              "      <td>0</td>\n",
              "      <td>0</td>\n",
              "      <td>0</td>\n",
              "      <td>0</td>\n",
              "      <td>0</td>\n",
              "      <td>0</td>\n",
              "      <td>0</td>\n",
              "      <td>0</td>\n",
              "      <td>0</td>\n",
              "      <td>0</td>\n",
              "      <td>0</td>\n",
              "      <td>0</td>\n",
              "      <td>0</td>\n",
              "      <td>0</td>\n",
              "      <td>0</td>\n",
              "      <td>0</td>\n",
              "      <td>0</td>\n",
              "      <td>0</td>\n",
              "      <td>0</td>\n",
              "      <td>0</td>\n",
              "      <td>0</td>\n",
              "      <td>0</td>\n",
              "      <td>0</td>\n",
              "      <td>0</td>\n",
              "      <td>0</td>\n",
              "      <td>0</td>\n",
              "      <td>0</td>\n",
              "      <td>0</td>\n",
              "      <td>0</td>\n",
              "    </tr>\n",
              "  </tbody>\n",
              "</table>\n",
              "<p>5 rows × 167 columns</p>\n",
              "</div>"
            ],
            "text/plain": [
              "   RES_Anche Vivolo  RES_Andiamo  ...  RES_Vivolo  RES_Zucchero e Pomodori\n",
              "0                 0            0  ...           0                        0\n",
              "1                 0            0  ...           0                        0\n",
              "2                 0            0  ...           0                        0\n",
              "3                 0            0  ...           0                        0\n",
              "4                 0            0  ...           0                        0\n",
              "\n",
              "[5 rows x 167 columns]"
            ]
          },
          "metadata": {
            "tags": []
          },
          "execution_count": 44
        }
      ]
    },
    {
      "cell_type": "markdown",
      "metadata": {
        "id": "a9aeK1B3CXST"
      },
      "source": [
        "in order to combine the numeric data with the dummy data, The numeric data will be stored in a variable called nycDataNum"
      ]
    },
    {
      "cell_type": "code",
      "metadata": {
        "id": "bJQeLS-HCWFd",
        "colab": {
          "base_uri": "https://localhost:8080/",
          "height": 34
        },
        "outputId": "062da1b9-cfa0-4880-ea56-cd180075c045"
      },
      "source": [
        "nycDataNum = nyc[['Food','Decor','Service','East']]\n",
        "nycDataNum.shape"
      ],
      "execution_count": null,
      "outputs": [
        {
          "output_type": "execute_result",
          "data": {
            "text/plain": [
              "(168, 4)"
            ]
          },
          "metadata": {
            "tags": []
          },
          "execution_count": 45
        }
      ]
    },
    {
      "cell_type": "markdown",
      "metadata": {
        "id": "jwgjpBvaCWck"
      },
      "source": [
        "# what\n",
        "nycDataCat and nycDataNum  are concatinated into a single dataframe and storedit in the concat_x variable, then we saved the price column in the Y variable\n",
        "\n"
      ]
    },
    {
      "cell_type": "markdown",
      "metadata": {
        "id": "MUPEV-WyDiR0"
      },
      "source": [
        "\n",
        "The nycDataCat(dummy data) and nycDataNum(numeric data) contains all of the independent variables from our data set, so we need to combine them into one dataframw and we also need to separate our dependent variable from our independent variable and save it in a different variable(y)"
      ]
    },
    {
      "cell_type": "code",
      "metadata": {
        "id": "TfWrD1PdESkC",
        "colab": {
          "base_uri": "https://localhost:8080/",
          "height": 304
        },
        "outputId": "08d2854d-2a51-4fe5-c588-11a5822130fd"
      },
      "source": [
        "# Preparing the X variables\n",
        "concat_x = pd.concat([nycDataCat, nycDataNum], axis=1)\n",
        "print(concat_x.shape)\n",
        "# Preparing the Y variable\n",
        "Y = nycData['Price']\n",
        "concat_x.head()"
      ],
      "execution_count": null,
      "outputs": [
        {
          "output_type": "stream",
          "text": [
            "(168, 171)\n"
          ],
          "name": "stdout"
        },
        {
          "output_type": "execute_result",
          "data": {
            "text/html": [
              "<div>\n",
              "<style scoped>\n",
              "    .dataframe tbody tr th:only-of-type {\n",
              "        vertical-align: middle;\n",
              "    }\n",
              "\n",
              "    .dataframe tbody tr th {\n",
              "        vertical-align: top;\n",
              "    }\n",
              "\n",
              "    .dataframe thead th {\n",
              "        text-align: right;\n",
              "    }\n",
              "</style>\n",
              "<table border=\"1\" class=\"dataframe\">\n",
              "  <thead>\n",
              "    <tr style=\"text-align: right;\">\n",
              "      <th></th>\n",
              "      <th>RES_Anche Vivolo</th>\n",
              "      <th>RES_Andiamo</th>\n",
              "      <th>RES_Arno</th>\n",
              "      <th>RES_Artusi</th>\n",
              "      <th>RES_Baci</th>\n",
              "      <th>RES_Baraonda</th>\n",
              "      <th>RES_Barbaresco</th>\n",
              "      <th>RES_Barbetta</th>\n",
              "      <th>RES_Bardolino</th>\n",
              "      <th>RES_Basta Pasta</th>\n",
              "      <th>RES_Becco</th>\n",
              "      <th>RES_Bella Luna</th>\n",
              "      <th>RES_Bellini</th>\n",
              "      <th>RES_Bello</th>\n",
              "      <th>RES_Belluno</th>\n",
              "      <th>RES_Bice</th>\n",
              "      <th>RES_Biricchino</th>\n",
              "      <th>RES_Bondí Ristorante´</th>\n",
              "      <th>RES_Bottino</th>\n",
              "      <th>RES_Bravo Gianni</th>\n",
              "      <th>RES_Bruno Ristorante</th>\n",
              "      <th>RES_Cafe Trevi</th>\n",
              "      <th>RES_Caffe Cielo</th>\n",
              "      <th>RES_Caffe Grazie</th>\n",
              "      <th>RES_Campagna</th>\n",
              "      <th>RES_Campagnola</th>\n",
              "      <th>RES_Canaletto</th>\n",
              "      <th>RES_Cara Mia</th>\n",
              "      <th>RES_Carino Ristorante</th>\n",
              "      <th>RES_Casa Di Meglio</th>\n",
              "      <th>RES_Casa Mia</th>\n",
              "      <th>RES_Castellano</th>\n",
              "      <th>RES_Cellini</th>\n",
              "      <th>RES_Chianti</th>\n",
              "      <th>RES_Ciao Europa</th>\n",
              "      <th>RES_Cinque Terre</th>\n",
              "      <th>RES_Circo Osteria del</th>\n",
              "      <th>RES_Coco Pazzo</th>\n",
              "      <th>RES_Coco Pazzo Café</th>\n",
              "      <th>RES_Coco Pazzo Teatro</th>\n",
              "      <th>...</th>\n",
              "      <th>RES_Rino Trattoria</th>\n",
              "      <th>RES_Rossini's</th>\n",
              "      <th>RES_Rughetta</th>\n",
              "      <th>RES_Sal Anthony's</th>\n",
              "      <th>RES_Sambuca, Trattoria</th>\n",
              "      <th>RES_San Domenico</th>\n",
              "      <th>RES_San Giusto</th>\n",
              "      <th>RES_San Pietro</th>\n",
              "      <th>RES_Scaletta</th>\n",
              "      <th>RES_Scalinatella</th>\n",
              "      <th>RES_Sette Mezzo</th>\n",
              "      <th>RES_Sette MoMA</th>\n",
              "      <th>RES_Sirabella's</th>\n",
              "      <th>RES_Sistina</th>\n",
              "      <th>RES_Spada</th>\n",
              "      <th>RES_Supreme Macaroni Co.</th>\n",
              "      <th>RES_Tello's Ristorante</th>\n",
              "      <th>RES_Teodora</th>\n",
              "      <th>RES_Tino's</th>\n",
              "      <th>RES_Tony's Di Napoli</th>\n",
              "      <th>RES_Torre di Pisa</th>\n",
              "      <th>RES_Trattoria Alba</th>\n",
              "      <th>RES_Trattoria Del Sogno</th>\n",
              "      <th>RES_Trattoria Dopo Teatro</th>\n",
              "      <th>RES_Trattoria Rustica</th>\n",
              "      <th>RES_Triangolo</th>\n",
              "      <th>RES_Trionfo</th>\n",
              "      <th>RES_Tuscan Square</th>\n",
              "      <th>RES_Vago Ristorante</th>\n",
              "      <th>RES_Veronica</th>\n",
              "      <th>RES_Via Oreto</th>\n",
              "      <th>RES_ViceVersa</th>\n",
              "      <th>RES_Vico</th>\n",
              "      <th>RES_Villa Berulia</th>\n",
              "      <th>RES_Vivolo</th>\n",
              "      <th>RES_Zucchero e Pomodori</th>\n",
              "      <th>Food</th>\n",
              "      <th>Decor</th>\n",
              "      <th>Service</th>\n",
              "      <th>East</th>\n",
              "    </tr>\n",
              "  </thead>\n",
              "  <tbody>\n",
              "    <tr>\n",
              "      <th>0</th>\n",
              "      <td>0</td>\n",
              "      <td>0</td>\n",
              "      <td>0</td>\n",
              "      <td>0</td>\n",
              "      <td>0</td>\n",
              "      <td>0</td>\n",
              "      <td>0</td>\n",
              "      <td>0</td>\n",
              "      <td>0</td>\n",
              "      <td>0</td>\n",
              "      <td>0</td>\n",
              "      <td>0</td>\n",
              "      <td>0</td>\n",
              "      <td>0</td>\n",
              "      <td>0</td>\n",
              "      <td>0</td>\n",
              "      <td>0</td>\n",
              "      <td>0</td>\n",
              "      <td>0</td>\n",
              "      <td>0</td>\n",
              "      <td>0</td>\n",
              "      <td>0</td>\n",
              "      <td>0</td>\n",
              "      <td>0</td>\n",
              "      <td>0</td>\n",
              "      <td>0</td>\n",
              "      <td>0</td>\n",
              "      <td>0</td>\n",
              "      <td>0</td>\n",
              "      <td>0</td>\n",
              "      <td>0</td>\n",
              "      <td>0</td>\n",
              "      <td>0</td>\n",
              "      <td>0</td>\n",
              "      <td>0</td>\n",
              "      <td>0</td>\n",
              "      <td>0</td>\n",
              "      <td>0</td>\n",
              "      <td>0</td>\n",
              "      <td>0</td>\n",
              "      <td>...</td>\n",
              "      <td>0</td>\n",
              "      <td>0</td>\n",
              "      <td>0</td>\n",
              "      <td>0</td>\n",
              "      <td>0</td>\n",
              "      <td>0</td>\n",
              "      <td>0</td>\n",
              "      <td>0</td>\n",
              "      <td>0</td>\n",
              "      <td>0</td>\n",
              "      <td>0</td>\n",
              "      <td>0</td>\n",
              "      <td>0</td>\n",
              "      <td>0</td>\n",
              "      <td>0</td>\n",
              "      <td>0</td>\n",
              "      <td>0</td>\n",
              "      <td>0</td>\n",
              "      <td>0</td>\n",
              "      <td>0</td>\n",
              "      <td>0</td>\n",
              "      <td>0</td>\n",
              "      <td>0</td>\n",
              "      <td>0</td>\n",
              "      <td>0</td>\n",
              "      <td>0</td>\n",
              "      <td>0</td>\n",
              "      <td>0</td>\n",
              "      <td>0</td>\n",
              "      <td>0</td>\n",
              "      <td>0</td>\n",
              "      <td>0</td>\n",
              "      <td>0</td>\n",
              "      <td>0</td>\n",
              "      <td>0</td>\n",
              "      <td>0</td>\n",
              "      <td>22</td>\n",
              "      <td>18</td>\n",
              "      <td>20</td>\n",
              "      <td>0</td>\n",
              "    </tr>\n",
              "    <tr>\n",
              "      <th>1</th>\n",
              "      <td>0</td>\n",
              "      <td>0</td>\n",
              "      <td>0</td>\n",
              "      <td>0</td>\n",
              "      <td>0</td>\n",
              "      <td>0</td>\n",
              "      <td>0</td>\n",
              "      <td>0</td>\n",
              "      <td>0</td>\n",
              "      <td>0</td>\n",
              "      <td>0</td>\n",
              "      <td>0</td>\n",
              "      <td>0</td>\n",
              "      <td>0</td>\n",
              "      <td>0</td>\n",
              "      <td>0</td>\n",
              "      <td>0</td>\n",
              "      <td>0</td>\n",
              "      <td>0</td>\n",
              "      <td>0</td>\n",
              "      <td>0</td>\n",
              "      <td>0</td>\n",
              "      <td>0</td>\n",
              "      <td>0</td>\n",
              "      <td>0</td>\n",
              "      <td>0</td>\n",
              "      <td>0</td>\n",
              "      <td>0</td>\n",
              "      <td>0</td>\n",
              "      <td>0</td>\n",
              "      <td>0</td>\n",
              "      <td>0</td>\n",
              "      <td>0</td>\n",
              "      <td>0</td>\n",
              "      <td>0</td>\n",
              "      <td>0</td>\n",
              "      <td>0</td>\n",
              "      <td>0</td>\n",
              "      <td>0</td>\n",
              "      <td>0</td>\n",
              "      <td>...</td>\n",
              "      <td>0</td>\n",
              "      <td>0</td>\n",
              "      <td>0</td>\n",
              "      <td>0</td>\n",
              "      <td>0</td>\n",
              "      <td>0</td>\n",
              "      <td>0</td>\n",
              "      <td>0</td>\n",
              "      <td>0</td>\n",
              "      <td>0</td>\n",
              "      <td>0</td>\n",
              "      <td>0</td>\n",
              "      <td>0</td>\n",
              "      <td>0</td>\n",
              "      <td>0</td>\n",
              "      <td>0</td>\n",
              "      <td>1</td>\n",
              "      <td>0</td>\n",
              "      <td>0</td>\n",
              "      <td>0</td>\n",
              "      <td>0</td>\n",
              "      <td>0</td>\n",
              "      <td>0</td>\n",
              "      <td>0</td>\n",
              "      <td>0</td>\n",
              "      <td>0</td>\n",
              "      <td>0</td>\n",
              "      <td>0</td>\n",
              "      <td>0</td>\n",
              "      <td>0</td>\n",
              "      <td>0</td>\n",
              "      <td>0</td>\n",
              "      <td>0</td>\n",
              "      <td>0</td>\n",
              "      <td>0</td>\n",
              "      <td>0</td>\n",
              "      <td>20</td>\n",
              "      <td>19</td>\n",
              "      <td>19</td>\n",
              "      <td>0</td>\n",
              "    </tr>\n",
              "    <tr>\n",
              "      <th>2</th>\n",
              "      <td>0</td>\n",
              "      <td>0</td>\n",
              "      <td>0</td>\n",
              "      <td>0</td>\n",
              "      <td>0</td>\n",
              "      <td>0</td>\n",
              "      <td>0</td>\n",
              "      <td>0</td>\n",
              "      <td>0</td>\n",
              "      <td>0</td>\n",
              "      <td>0</td>\n",
              "      <td>0</td>\n",
              "      <td>0</td>\n",
              "      <td>0</td>\n",
              "      <td>0</td>\n",
              "      <td>0</td>\n",
              "      <td>1</td>\n",
              "      <td>0</td>\n",
              "      <td>0</td>\n",
              "      <td>0</td>\n",
              "      <td>0</td>\n",
              "      <td>0</td>\n",
              "      <td>0</td>\n",
              "      <td>0</td>\n",
              "      <td>0</td>\n",
              "      <td>0</td>\n",
              "      <td>0</td>\n",
              "      <td>0</td>\n",
              "      <td>0</td>\n",
              "      <td>0</td>\n",
              "      <td>0</td>\n",
              "      <td>0</td>\n",
              "      <td>0</td>\n",
              "      <td>0</td>\n",
              "      <td>0</td>\n",
              "      <td>0</td>\n",
              "      <td>0</td>\n",
              "      <td>0</td>\n",
              "      <td>0</td>\n",
              "      <td>0</td>\n",
              "      <td>...</td>\n",
              "      <td>0</td>\n",
              "      <td>0</td>\n",
              "      <td>0</td>\n",
              "      <td>0</td>\n",
              "      <td>0</td>\n",
              "      <td>0</td>\n",
              "      <td>0</td>\n",
              "      <td>0</td>\n",
              "      <td>0</td>\n",
              "      <td>0</td>\n",
              "      <td>0</td>\n",
              "      <td>0</td>\n",
              "      <td>0</td>\n",
              "      <td>0</td>\n",
              "      <td>0</td>\n",
              "      <td>0</td>\n",
              "      <td>0</td>\n",
              "      <td>0</td>\n",
              "      <td>0</td>\n",
              "      <td>0</td>\n",
              "      <td>0</td>\n",
              "      <td>0</td>\n",
              "      <td>0</td>\n",
              "      <td>0</td>\n",
              "      <td>0</td>\n",
              "      <td>0</td>\n",
              "      <td>0</td>\n",
              "      <td>0</td>\n",
              "      <td>0</td>\n",
              "      <td>0</td>\n",
              "      <td>0</td>\n",
              "      <td>0</td>\n",
              "      <td>0</td>\n",
              "      <td>0</td>\n",
              "      <td>0</td>\n",
              "      <td>0</td>\n",
              "      <td>21</td>\n",
              "      <td>13</td>\n",
              "      <td>18</td>\n",
              "      <td>0</td>\n",
              "    </tr>\n",
              "    <tr>\n",
              "      <th>3</th>\n",
              "      <td>0</td>\n",
              "      <td>0</td>\n",
              "      <td>0</td>\n",
              "      <td>0</td>\n",
              "      <td>0</td>\n",
              "      <td>0</td>\n",
              "      <td>0</td>\n",
              "      <td>0</td>\n",
              "      <td>0</td>\n",
              "      <td>0</td>\n",
              "      <td>0</td>\n",
              "      <td>0</td>\n",
              "      <td>0</td>\n",
              "      <td>0</td>\n",
              "      <td>0</td>\n",
              "      <td>0</td>\n",
              "      <td>0</td>\n",
              "      <td>0</td>\n",
              "      <td>1</td>\n",
              "      <td>0</td>\n",
              "      <td>0</td>\n",
              "      <td>0</td>\n",
              "      <td>0</td>\n",
              "      <td>0</td>\n",
              "      <td>0</td>\n",
              "      <td>0</td>\n",
              "      <td>0</td>\n",
              "      <td>0</td>\n",
              "      <td>0</td>\n",
              "      <td>0</td>\n",
              "      <td>0</td>\n",
              "      <td>0</td>\n",
              "      <td>0</td>\n",
              "      <td>0</td>\n",
              "      <td>0</td>\n",
              "      <td>0</td>\n",
              "      <td>0</td>\n",
              "      <td>0</td>\n",
              "      <td>0</td>\n",
              "      <td>0</td>\n",
              "      <td>...</td>\n",
              "      <td>0</td>\n",
              "      <td>0</td>\n",
              "      <td>0</td>\n",
              "      <td>0</td>\n",
              "      <td>0</td>\n",
              "      <td>0</td>\n",
              "      <td>0</td>\n",
              "      <td>0</td>\n",
              "      <td>0</td>\n",
              "      <td>0</td>\n",
              "      <td>0</td>\n",
              "      <td>0</td>\n",
              "      <td>0</td>\n",
              "      <td>0</td>\n",
              "      <td>0</td>\n",
              "      <td>0</td>\n",
              "      <td>0</td>\n",
              "      <td>0</td>\n",
              "      <td>0</td>\n",
              "      <td>0</td>\n",
              "      <td>0</td>\n",
              "      <td>0</td>\n",
              "      <td>0</td>\n",
              "      <td>0</td>\n",
              "      <td>0</td>\n",
              "      <td>0</td>\n",
              "      <td>0</td>\n",
              "      <td>0</td>\n",
              "      <td>0</td>\n",
              "      <td>0</td>\n",
              "      <td>0</td>\n",
              "      <td>0</td>\n",
              "      <td>0</td>\n",
              "      <td>0</td>\n",
              "      <td>0</td>\n",
              "      <td>0</td>\n",
              "      <td>20</td>\n",
              "      <td>20</td>\n",
              "      <td>17</td>\n",
              "      <td>0</td>\n",
              "    </tr>\n",
              "    <tr>\n",
              "      <th>4</th>\n",
              "      <td>0</td>\n",
              "      <td>0</td>\n",
              "      <td>0</td>\n",
              "      <td>0</td>\n",
              "      <td>0</td>\n",
              "      <td>0</td>\n",
              "      <td>0</td>\n",
              "      <td>0</td>\n",
              "      <td>0</td>\n",
              "      <td>0</td>\n",
              "      <td>0</td>\n",
              "      <td>0</td>\n",
              "      <td>0</td>\n",
              "      <td>0</td>\n",
              "      <td>0</td>\n",
              "      <td>0</td>\n",
              "      <td>0</td>\n",
              "      <td>0</td>\n",
              "      <td>0</td>\n",
              "      <td>0</td>\n",
              "      <td>0</td>\n",
              "      <td>0</td>\n",
              "      <td>0</td>\n",
              "      <td>0</td>\n",
              "      <td>0</td>\n",
              "      <td>0</td>\n",
              "      <td>0</td>\n",
              "      <td>0</td>\n",
              "      <td>0</td>\n",
              "      <td>0</td>\n",
              "      <td>0</td>\n",
              "      <td>0</td>\n",
              "      <td>0</td>\n",
              "      <td>0</td>\n",
              "      <td>0</td>\n",
              "      <td>0</td>\n",
              "      <td>0</td>\n",
              "      <td>0</td>\n",
              "      <td>0</td>\n",
              "      <td>0</td>\n",
              "      <td>...</td>\n",
              "      <td>0</td>\n",
              "      <td>0</td>\n",
              "      <td>0</td>\n",
              "      <td>0</td>\n",
              "      <td>0</td>\n",
              "      <td>0</td>\n",
              "      <td>0</td>\n",
              "      <td>0</td>\n",
              "      <td>0</td>\n",
              "      <td>0</td>\n",
              "      <td>0</td>\n",
              "      <td>0</td>\n",
              "      <td>0</td>\n",
              "      <td>0</td>\n",
              "      <td>0</td>\n",
              "      <td>0</td>\n",
              "      <td>0</td>\n",
              "      <td>0</td>\n",
              "      <td>0</td>\n",
              "      <td>0</td>\n",
              "      <td>0</td>\n",
              "      <td>0</td>\n",
              "      <td>0</td>\n",
              "      <td>0</td>\n",
              "      <td>0</td>\n",
              "      <td>0</td>\n",
              "      <td>0</td>\n",
              "      <td>0</td>\n",
              "      <td>0</td>\n",
              "      <td>0</td>\n",
              "      <td>0</td>\n",
              "      <td>0</td>\n",
              "      <td>0</td>\n",
              "      <td>0</td>\n",
              "      <td>0</td>\n",
              "      <td>0</td>\n",
              "      <td>24</td>\n",
              "      <td>19</td>\n",
              "      <td>21</td>\n",
              "      <td>0</td>\n",
              "    </tr>\n",
              "  </tbody>\n",
              "</table>\n",
              "<p>5 rows × 171 columns</p>\n",
              "</div>"
            ],
            "text/plain": [
              "   RES_Anche Vivolo  RES_Andiamo  RES_Arno  ...  Decor  Service  East\n",
              "0                 0            0         0  ...     18       20     0\n",
              "1                 0            0         0  ...     19       19     0\n",
              "2                 0            0         0  ...     13       18     0\n",
              "3                 0            0         0  ...     20       17     0\n",
              "4                 0            0         0  ...     19       21     0\n",
              "\n",
              "[5 rows x 171 columns]"
            ]
          },
          "metadata": {
            "tags": []
          },
          "execution_count": 46
        }
      ]
    },
    {
      "cell_type": "markdown",
      "metadata": {
        "id": "596E3T5qFfAo"
      },
      "source": [
        "#what\n",
        "splitting of data into train and test data"
      ]
    },
    {
      "cell_type": "markdown",
      "metadata": {
        "id": "uTi3nSwxFwXu"
      },
      "source": [
        "#WHY\n",
        " X and y are splitted into train and test data so that the train data can be used to train the model and the test data can be used to evaluate the performance of the model. Our test size is 30% of the total data and the random_state argument is used to ensure that the function produces the same result whenever the same set of data is used."
      ]
    },
    {
      "cell_type": "code",
      "metadata": {
        "id": "ylLVXiM7GEgO"
      },
      "source": [
        "X_trained, X_tested, y_trained, y_tested = train_test_split(X, Y, test_size=0.3, random_state=123)"
      ],
      "execution_count": null,
      "outputs": []
    },
    {
      "cell_type": "markdown",
      "metadata": {
        "id": "A2UlXqBHGPbH"
      },
      "source": [
        "#WHAT\n",
        " LinearRegression method from sklearn is used to define our model.linear_model library to define our model and we are using the fit method to trian the model"
      ]
    },
    {
      "cell_type": "code",
      "metadata": {
        "id": "qAOxFCwQGq6S"
      },
      "source": [
        "new_Model = LinearRegression()\n",
        "new_ModelResult = new_Model.fit(X_trained, y_trained)"
      ],
      "execution_count": null,
      "outputs": []
    },
    {
      "cell_type": "markdown",
      "metadata": {
        "id": "dg_-isdXHNyj"
      },
      "source": [
        "We are using the score method to obtain r-squared for the Model(Coefficient of determination)"
      ]
    },
    {
      "cell_type": "markdown",
      "metadata": {
        "id": "mvxcU8wNHScL"
      },
      "source": [
        "WHY: Our Coefficient of determination describes how much of our dependent variable is decribed by the independent variables. The r-squared for this model is 66.5%"
      ]
    },
    {
      "cell_type": "code",
      "metadata": {
        "id": "KhF8rh8kHX5S",
        "colab": {
          "base_uri": "https://localhost:8080/",
          "height": 34
        },
        "outputId": "52a2fc26-06c7-47f4-8412-a3a5ba85091c"
      },
      "source": [
        "new_ModelResult.score(X_tested, y_tested)"
      ],
      "execution_count": null,
      "outputs": [
        {
          "output_type": "execute_result",
          "data": {
            "text/plain": [
              "0.6675082188884149"
            ]
          },
          "metadata": {
            "tags": []
          },
          "execution_count": 49
        }
      ]
    },
    {
      "cell_type": "markdown",
      "metadata": {
        "id": "X8eOvgTnHeAp"
      },
      "source": [
        " We used the predict function on our model and we passed in the X_test values"
      ]
    },
    {
      "cell_type": "markdown",
      "metadata": {
        "id": "2-r5s1NZHiMX"
      },
      "source": [
        "WHY: Our model predicted the Price values(dependent variable) based on the test independent variables we passed to it. We then compared the predictions with the actual value"
      ]
    },
    {
      "cell_type": "code",
      "metadata": {
        "id": "yPBwxTgtHrKk",
        "colab": {
          "base_uri": "https://localhost:8080/",
          "height": 119
        },
        "outputId": "4e1f4dd6-0e9b-4d0f-97b7-7fc5ac4f4abd"
      },
      "source": [
        "new_Y_pred = new_ModelResult.predict(X_tested)\n",
        "y_tested.head()"
      ],
      "execution_count": null,
      "outputs": [
        {
          "output_type": "execute_result",
          "data": {
            "text/plain": [
              "63     49\n",
              "86     50\n",
              "145    52\n",
              "53     36\n",
              "60     53\n",
              "Name: Price, dtype: int64"
            ]
          },
          "metadata": {
            "tags": []
          },
          "execution_count": 50
        }
      ]
    },
    {
      "cell_type": "code",
      "metadata": {
        "id": "47j31MsPH9UF",
        "colab": {
          "base_uri": "https://localhost:8080/",
          "height": 204
        },
        "outputId": "c834b53f-d778-493e-f905-285cc47371db"
      },
      "source": [
        "new_Y_pred"
      ],
      "execution_count": null,
      "outputs": [
        {
          "output_type": "execute_result",
          "data": {
            "text/plain": [
              "array([45.26068374, 48.93518017, 55.14834069, 30.68375884, 54.39978196,\n",
              "       39.79631108, 36.16163361, 40.58468877, 33.28993352, 23.42928081,\n",
              "       56.21689156, 46.04929056, 52.55566812, 38.76757917, 58.0335429 ,\n",
              "       27.81182961, 38.75430618, 48.9086342 , 42.38829625, 43.45730539,\n",
              "       31.44581969, 36.93765485, 56.20293117, 38.75384791, 48.92121978,\n",
              "       52.5689411 , 48.92121978, 52.56917024, 45.27395673, 55.13483857,\n",
              "       37.97874321, 38.74057493, 46.04929056, 40.57164492, 52.56871197,\n",
              "       48.92167805, 39.79585282, 47.82658121, 50.73832938, 63.49814469,\n",
              "       30.69703182, 36.92392359, 54.39955282, 35.09331187, 38.75453532,\n",
              "       47.09083719, 43.44311587, 33.27643141, 49.710514  , 50.73832938,\n",
              "       39.82308619])"
            ]
          },
          "metadata": {
            "tags": []
          },
          "execution_count": 51
        }
      ]
    },
    {
      "cell_type": "markdown",
      "metadata": {
        "id": "NL_s5SHQID_i"
      },
      "source": [
        "# what\n",
        "We used the OLS method from the statsmodels.api library to define our model and we trained using the fit method"
      ]
    },
    {
      "cell_type": "markdown",
      "metadata": {
        "id": "bGvH5OQZIWdo"
      },
      "source": [
        "#why\n",
        "The model is defined because we need to develop a model that can predict the price of food based on all the remaining variables. The model is trained in order to understand the data and develop a function that can accurately predict the price of food."
      ]
    },
    {
      "cell_type": "code",
      "metadata": {
        "id": "Ix0oPhuVIgGH"
      },
      "source": [
        "improved_model = smf.ols(formula= 'Price ~ Food + Decor + Service + East', data = train_data)\n",
        "train_improved_model = improved_model.fit()"
      ],
      "execution_count": null,
      "outputs": []
    },
    {
      "cell_type": "code",
      "metadata": {
        "id": "ShG4161BJgt9",
        "colab": {
          "base_uri": "https://localhost:8080/",
          "height": 493
        },
        "outputId": "de7b1eb5-790c-41ed-be2c-71faec161acf"
      },
      "source": [
        "print(train_improved_model.summary())"
      ],
      "execution_count": null,
      "outputs": [
        {
          "output_type": "stream",
          "text": [
            "                            OLS Regression Results                            \n",
            "==============================================================================\n",
            "Dep. Variable:                  Price   R-squared:                       0.600\n",
            "Model:                            OLS   Adj. R-squared:                  0.586\n",
            "Method:                 Least Squares   F-statistic:                     41.97\n",
            "Date:                Fri, 17 Jul 2020   Prob (F-statistic):           1.84e-21\n",
            "Time:                        15:20:41   Log-Likelihood:                -372.50\n",
            "No. Observations:                 117   AIC:                             755.0\n",
            "Df Residuals:                     112   BIC:                             768.8\n",
            "Df Model:                           4                                         \n",
            "Covariance Type:            nonrobust                                         \n",
            "==============================================================================\n",
            "                 coef    std err          t      P>|t|      [0.025      0.975]\n",
            "------------------------------------------------------------------------------\n",
            "Intercept    -28.7444      6.094     -4.717      0.000     -40.819     -16.670\n",
            "Food           1.8306      0.458      3.993      0.000       0.922       2.739\n",
            "Decor          1.8171      0.267      6.806      0.000       1.288       2.346\n",
            "Service       -0.0002      0.484     -0.000      1.000      -0.960       0.960\n",
            "East           2.8722      1.183      2.429      0.017       0.529       5.216\n",
            "==============================================================================\n",
            "Omnibus:                        3.410   Durbin-Watson:                   1.842\n",
            "Prob(Omnibus):                  0.182   Jarque-Bera (JB):                2.918\n",
            "Skew:                           0.267   Prob(JB):                        0.232\n",
            "Kurtosis:                       3.559   Cond. No.                         368.\n",
            "==============================================================================\n",
            "\n",
            "Warnings:\n",
            "[1] Standard Errors assume that the covariance matrix of the errors is correctly specified.\n"
          ],
          "name": "stdout"
        }
      ]
    },
    {
      "cell_type": "code",
      "metadata": {
        "id": "XBDIDW0qAQgt"
      },
      "source": [
        "from sklearn import tree"
      ],
      "execution_count": null,
      "outputs": []
    },
    {
      "cell_type": "code",
      "metadata": {
        "id": "faaYBfd5AcBr",
        "colab": {
          "base_uri": "https://localhost:8080/",
          "height": 119
        },
        "outputId": "7f51b2b4-6c72-4b71-9f8f-931343760858"
      },
      "source": [
        "model_tree = tree.DecisionTreeClassifier(criterion=\"entropy\", max_depth=8, random_state=0)\n",
        "model_tree.fit(concat_x, Y)"
      ],
      "execution_count": null,
      "outputs": [
        {
          "output_type": "execute_result",
          "data": {
            "text/plain": [
              "DecisionTreeClassifier(ccp_alpha=0.0, class_weight=None, criterion='entropy',\n",
              "                       max_depth=8, max_features=None, max_leaf_nodes=None,\n",
              "                       min_impurity_decrease=0.0, min_impurity_split=None,\n",
              "                       min_samples_leaf=1, min_samples_split=2,\n",
              "                       min_weight_fraction_leaf=0.0, presort='deprecated',\n",
              "                       random_state=0, splitter='best')"
            ]
          },
          "metadata": {
            "tags": []
          },
          "execution_count": 55
        }
      ]
    },
    {
      "cell_type": "code",
      "metadata": {
        "id": "UvYfOkQdCLpS",
        "colab": {
          "base_uri": "https://localhost:8080/",
          "height": 34
        },
        "outputId": "066205a5-730f-41d3-b984-a13f0a4f45c0"
      },
      "source": [
        "model_tree.score(concat_x, Y)"
      ],
      "execution_count": null,
      "outputs": [
        {
          "output_type": "execute_result",
          "data": {
            "text/plain": [
              "0.8452380952380952"
            ]
          },
          "metadata": {
            "tags": []
          },
          "execution_count": 56
        }
      ]
    },
    {
      "cell_type": "code",
      "metadata": {
        "id": "tp0Z-fcxEBb-",
        "colab": {
          "base_uri": "https://localhost:8080/",
          "height": 187
        },
        "outputId": "84cfb8a0-102c-4b16-b665-1461db92a9fa"
      },
      "source": [
        "model_tree.predict(concat_x)"
      ],
      "execution_count": null,
      "outputs": [
        {
          "output_type": "execute_result",
          "data": {
            "text/plain": [
              "array([43, 32, 34, 41, 54, 52, 34, 34, 39, 44, 35, 41, 52, 35, 47, 37, 45,\n",
              "       57, 33, 45, 52, 51, 38, 50, 45, 35, 45, 35, 37, 65, 34, 51, 49, 51,\n",
              "       62, 43, 51, 52, 57, 49, 33, 31, 41, 58, 44, 44, 37, 56, 58, 44, 46,\n",
              "       40, 39, 36, 34, 54, 51, 41, 40, 24, 53, 31, 31, 49, 31, 48, 43, 29,\n",
              "       37, 37, 37, 55, 49, 33, 52, 47, 43, 33, 33, 48, 50, 46, 38, 33, 38,\n",
              "       37, 46, 54, 41, 37, 50, 60, 36, 54, 39, 35, 30, 41, 30, 25, 43, 35,\n",
              "       57, 32, 51, 48, 36, 37, 31, 46, 33, 33, 43, 51, 19, 28, 22, 41, 32,\n",
              "       29, 33, 45, 38, 52, 38, 47, 43, 40, 32, 65, 47, 65, 45, 46, 44, 40,\n",
              "       46, 32, 23, 42, 29, 49, 53, 45, 63, 52, 40, 45, 38, 38, 42, 57, 39,\n",
              "       43, 29, 42, 50, 34, 31, 38, 46, 42, 31, 31, 26, 31, 38, 34])"
            ]
          },
          "metadata": {
            "tags": []
          },
          "execution_count": 57
        }
      ]
    },
    {
      "cell_type": "code",
      "metadata": {
        "id": "kumi3Op3Klnw",
        "colab": {
          "base_uri": "https://localhost:8080/",
          "height": 221
        },
        "outputId": "63ed1c38-d93b-436f-c48f-baea3c6acb4f"
      },
      "source": [
        "Y"
      ],
      "execution_count": null,
      "outputs": [
        {
          "output_type": "execute_result",
          "data": {
            "text/plain": [
              "0      43\n",
              "1      32\n",
              "2      34\n",
              "3      41\n",
              "4      54\n",
              "       ..\n",
              "163    31\n",
              "164    26\n",
              "165    31\n",
              "166    38\n",
              "167    34\n",
              "Name: Price, Length: 168, dtype: int64"
            ]
          },
          "metadata": {
            "tags": []
          },
          "execution_count": 58
        }
      ]
    },
    {
      "cell_type": "code",
      "metadata": {
        "id": "23X5-pcgFb_T",
        "colab": {
          "base_uri": "https://localhost:8080/",
          "height": 34
        },
        "outputId": "9ec99182-9df9-4e2f-8cde-270e650e5ecb"
      },
      "source": [
        "Y[9]"
      ],
      "execution_count": null,
      "outputs": [
        {
          "output_type": "execute_result",
          "data": {
            "text/plain": [
              "44"
            ]
          },
          "metadata": {
            "tags": []
          },
          "execution_count": 59
        }
      ]
    },
    {
      "cell_type": "code",
      "metadata": {
        "id": "qhm9Aq80F2CR",
        "colab": {
          "base_uri": "https://localhost:8080/",
          "height": 34
        },
        "outputId": "4de0b9a6-1ec8-42d1-dfc2-2a8d9e3ff4bc"
      },
      "source": [
        "model_tree.score(concat_x, Y)"
      ],
      "execution_count": null,
      "outputs": [
        {
          "output_type": "execute_result",
          "data": {
            "text/plain": [
              "0.8452380952380952"
            ]
          },
          "metadata": {
            "tags": []
          },
          "execution_count": 60
        }
      ]
    }
  ]
}